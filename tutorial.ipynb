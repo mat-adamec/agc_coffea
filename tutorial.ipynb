{
 "cells": [
  {
   "cell_type": "markdown",
   "id": "5da16986-b620-4d9e-8d0d-d669d7c8ccf5",
   "metadata": {},
   "source": [
    "# Analysis with Coffea"
   ]
  },
  {
   "cell_type": "markdown",
   "id": "d61ced43-27c1-42a1-9f1e-7aeecf73c406",
   "metadata": {},
   "source": [
    "<h2>Authors</h2>\n",
    "<b>Notebook by:</b> Mat Adamec (<i>UNL</i>)\n",
    "<br/>\n",
    "<br/>\n",
    "<b>coffea:</b>\n",
    "<br/>\n",
    "<a href=\"https://doi.org/10.5281/zenodo.6335374\"><img src=\"https://zenodo.org/badge/DOI/10.5281/zenodo.6335374.svg\" alt=\"DOI\"></a>\n",
    "<br/>\n",
    "    <ul>\n",
    "        <li>Lindsey Gray, Matteo Cremonesi, Bo Jayatilaka, Oliver Gutsche, Nick Smith, Allison Hall, Kevin Pedro, Maria Acosta <i>(FNAL)</i>; Andrew Melo <i>(Vanderbilt)</i>; Stefano Belforte <i>(INFN)</i>; and others</li>\n",
    "        <li>In collaboration with IRIS-HEP members: Jim Pivarski <i>(Princeton)</i>, Ben Galewsky <i>(NCSA)</i>, Mark Neubauer <i>(UIUC)</i></li>\n",
    "        <br/>\n",
    "    </ul>\n",
    "<b><a href=\"https://github.com/CoffeaTeam/coffea-casa\">coffea-casa</a>:</b>\n",
    "    <ul>\n",
    "        <li>Ken Bloom, Oksana Shadura <i>(UNL)</i>; Garhan Attebury, Carl Lundstedt, Derek Weitzel <i>(UNL-HCC)</i>; Mátyás Selmeci <i>(UWM)</i>; Brian Bockelman <i>(Morgridge Institute)</i></li>\n",
    "    </ul>"
   ]
  },
  {
   "cell_type": "markdown",
   "id": "cb3dfb9b-5318-4bef-beb4-217d400722ab",
   "metadata": {},
   "source": [
    "## What is Coffea?"
   ]
  },
  {
   "cell_type": "markdown",
   "id": "e2930e50-b560-4200-adea-94513b1a860d",
   "metadata": {},
   "source": [
    "Coffea stands for *Columnar Object Framework For Effective Analysis.* It contains a variety of tools which help physicists perform their analyses in a columnar fashion. By \"a columnar fashion,\" we mean that data is contained in numpy-like arrays upon which we can perform operations without calling an explicit event loop. Coffea's arrays are built on Awkward, and any Awkward operation will work on a Coffea data array. But, of course, Coffea isn't just Awkward! Its tools include:\n",
    "\n",
    "* **NanoEvents** wraps data into an awkward array with other features provided in a NanoEvents schema. Working with data in NanoEvents is, essentially, exactly the same as working with data in awkward. A preliminary section is included in this tutorial to demonstrate the basics, but an awkward tutorial should be referred to for greater details. The aspect of NanoEvents which makes it special is the schema, and so that shall be our main focus.\n",
    "\n",
    "* **Hists** are as they sound! Once you've accessed and manipulated your data with NanoEvents and awkward, you're going to want to make some plots. The hist object has the functionality you'll need to make ROOT-like histograms.\n",
    "\n",
    "* **Processors** are Coffea's way of wrapping up an analysis in a way that is deployment-neutral. Once you've turned your analysis into a processor, you can run it on a variety of executors (e.g. Dask, Parsl, Spark) without making any dramatic changes to the analysis itself. This makes scale-out simple and dynamic.\n",
    "\n",
    "* **Lookup tools** are available in Coffea for any corrections that need to be made to physics data. These tools read a variety of correction file formats and turn them into lookup tables. As corrections are experiment-specific, we won't be covering this aspect in this tutorial.\n",
    "\n",
    "Conveniently, these tools build on each other. You can't use a hist without data, and you can't use a processor without an analysis (which is, loosely, data + hists). Thus, the above serves as the agenda for our tutorial today!"
   ]
  },
  {
   "cell_type": "markdown",
   "id": "7abffcc4-cc2c-4838-9fad-ee123803f536",
   "metadata": {},
   "source": [
    "## A Motivating Comparison"
   ]
  },
  {
   "cell_type": "markdown",
   "id": "43990d64-4770-4469-a340-7709b281d6ee",
   "metadata": {},
   "source": [
    "Placeholder. Showcase coffea vs. event loop to motivate why we'd want to use it.\n",
    "* Find a suitable analysis for this.\n",
    "* Maybe show the analysis we'll build through the tutorial, just to also show \"where we'll end up?\"\n",
    "* If we do make a comparison here, then imports/NanoAODSchema warning messages will be here, so they remain here for now."
   ]
  },
  {
   "cell_type": "code",
   "execution_count": 77,
   "id": "d2c39979-2731-48a8-bd32-ec441b6c4c3b",
   "metadata": {},
   "outputs": [],
   "source": [
    "from coffea.nanoevents import NanoEventsFactory, NanoAODSchema\n",
    "from coffea import hist\n",
    "import awkward as ak\n",
    "import numpy as np\n",
    "\n",
    "# NanoEvents will try to build crossrefs that aren't in our file! Silence this as it's irrelevant for our purposes.\n",
    "NanoAODSchema.warn_missing_crossrefs = False"
   ]
  },
  {
   "cell_type": "markdown",
   "id": "ac2ac174-48d3-47b4-9135-357de64027f4",
   "metadata": {},
   "source": [
    "## **Preliminary**: Data, Awkwardly"
   ]
  },
  {
   "cell_type": "markdown",
   "id": "478f11d5-5f96-4f75-8593-4fb6eb427ee8",
   "metadata": {},
   "source": [
    "As mentioned in the overview, NanoEvents bundles data with physical meaning. We input some nTuple file and we get an awkward array with the desirable physics methods.\n",
    "\n",
    "To use NanoEvents, we of course need data. (Insert information about the file we'll be using. Currently, we're using a placeholder.)\n",
    "\n",
    "The simplest way to access our data is to use NanoEventsFactory. Note that I will only take the first 100000 events in our file - this ensures we don't end up waiting for blocks to process. You can remove this constraint if you desire."
   ]
  },
  {
   "cell_type": "code",
   "execution_count": 2,
   "id": "94e22a86-596d-418d-aeb5-233a024f7b79",
   "metadata": {
    "tags": []
   },
   "outputs": [],
   "source": [
    "events = NanoEventsFactory.from_root(\"root://eospublic.cern.ch//eos/root-eos/benchmark/Run2012B_SingleMu.root\", entry_stop=100000).events()"
   ]
  },
  {
   "cell_type": "markdown",
   "id": "38d7e136-c980-482a-87d5-f48159d077b8",
   "metadata": {},
   "source": [
    "What does our data look like? Well, it's an awkward array! If you missed the talk about awkward, you can imagine an awkward array as a numpy array that can handle jagged (non-rectangular) data. We won't dive too deep into its details - but we will at least explore the structure of our NanoEvents array. Let's look at <code>events</code>:"
   ]
  },
  {
   "cell_type": "code",
   "execution_count": 3,
   "id": "64305403-ccb2-47cd-9a08-4a48a0523926",
   "metadata": {},
   "outputs": [
    {
     "data": {
      "text/plain": [
       "<NanoEventsArray [<event 194711:299:263142897>, ... ] type='100000 * event'>"
      ]
     },
     "execution_count": 3,
     "metadata": {},
     "output_type": "execute_result"
    }
   ],
   "source": [
    "events"
   ]
  },
  {
   "cell_type": "markdown",
   "id": "6d1f43f5-37f6-421c-9252-770b3585c572",
   "metadata": {},
   "source": [
    "What does this mean? Well, we have an array of size 100000 which is populated with <code>event</code> entries. Each <code>event</code> contains a variable amount of the data we are interested in. We can see the data that is contains by exploring its <code>fields</code>."
   ]
  },
  {
   "cell_type": "code",
   "execution_count": 4,
   "id": "64aa8288-7c61-4c8f-9346-76a7e10b6808",
   "metadata": {},
   "outputs": [
    {
     "data": {
      "text/plain": [
       "['Electron',\n",
       " 'event',\n",
       " 'Jet',\n",
       " 'PV',\n",
       " 'Photon',\n",
       " 'luminosityBlock',\n",
       " 'run',\n",
       " 'HLT',\n",
       " 'Muon',\n",
       " 'Tau',\n",
       " 'MET']"
      ]
     },
     "execution_count": 4,
     "metadata": {},
     "output_type": "execute_result"
    }
   ],
   "source": [
    "events.fields"
   ]
  },
  {
   "cell_type": "markdown",
   "id": "9ecbfc67-313a-436f-a972-53b94e0fd3d1",
   "metadata": {},
   "source": [
    "As this is a muon dataset, let's look at <code>Muon</code>."
   ]
  },
  {
   "cell_type": "code",
   "execution_count": 5,
   "id": "3c790d37-24ab-4195-b8c0-75ce7172384b",
   "metadata": {},
   "outputs": [
    {
     "data": {
      "text/plain": [
       "<MuonArray [[Muon], [Muon], ... [Muon, Muon]] type='100000 * var * muon'>"
      ]
     },
     "execution_count": 5,
     "metadata": {},
     "output_type": "execute_result"
    }
   ],
   "source": [
    "events.Muon"
   ]
  },
  {
   "cell_type": "markdown",
   "id": "7dd7c1d4-0220-4e0e-b36c-d6e23a2587cf",
   "metadata": {},
   "source": [
    "Looking at <code>events.Muon</code> we begin to see the jagged structure of our events array. Each subarray in <code>MuonArray</code> represents one event (note that the size of <code>MuonArray</code> is still 100000). Then, each event can have one Muon, n Muons, or none in its subarray. Of course, this is what we expect to be the case physically, but we now have a data structure that can represent it. That's the beauty of awkward!\n",
    "\n",
    "To drive the point home, let's count up the number of muons across all of our events."
   ]
  },
  {
   "cell_type": "code",
   "execution_count": 6,
   "id": "6702024b-e035-4435-a9be-3e3866d01d95",
   "metadata": {},
   "outputs": [
    {
     "data": {
      "text/plain": [
       "136481"
      ]
     },
     "execution_count": 6,
     "metadata": {},
     "output_type": "execute_result"
    }
   ],
   "source": [
    "ak.sum(ak.num(events.Muon, axis=-1))"
   ]
  },
  {
   "cell_type": "markdown",
   "id": "ca9fc147-c80b-4331-9b55-9afff590c394",
   "metadata": {},
   "source": [
    "A quick note about axes in Awkward: 0 is always the shallowest, while -1 is the deepest. In other words, <code>axis=0</code> would tell us the number of subarrays, while <code>axis=-1</code> sums up the number of muons in each subarray. In this case, <code>axis=1</code> works just as well; <code>axis=2</code> is meaningless since our subarrays have no further subarrays within them.\n",
    "\n",
    "Now we have some idea about the structure of our data. How do we actually get information about a <code>Muon</code>, though? Well, a <code>Muon</code> has its own fields:"
   ]
  },
  {
   "cell_type": "code",
   "execution_count": 7,
   "id": "d748922d-2cb8-49e4-83af-979bb3877bad",
   "metadata": {},
   "outputs": [
    {
     "data": {
      "text/plain": [
       "['charge',\n",
       " 'dxy',\n",
       " 'dxyErr',\n",
       " 'dz',\n",
       " 'dzErr',\n",
       " 'eta',\n",
       " 'genPartIdx',\n",
       " 'jetIdx',\n",
       " 'jetIdxG',\n",
       " 'mass',\n",
       " 'pfRelIso03_all',\n",
       " 'pfRelIso04_all',\n",
       " 'phi',\n",
       " 'pt',\n",
       " 'softId',\n",
       " 'tightId']"
      ]
     },
     "execution_count": 7,
     "metadata": {},
     "output_type": "execute_result"
    }
   ],
   "source": [
    "events.Muon.fields"
   ]
  },
  {
   "cell_type": "markdown",
   "id": "48cab211-04e1-4a43-ba4b-3169d74b20b5",
   "metadata": {},
   "source": [
    "And these fields can be accessed in the same way that we accessed Muons! The p<sub>T</sub>, for example:"
   ]
  },
  {
   "cell_type": "code",
   "execution_count": 8,
   "id": "dcb90daf-5201-493a-ac45-173ade43fb98",
   "metadata": {},
   "outputs": [
    {
     "data": {
      "text/plain": [
       "<Array [[12.8], [24.8], ... [14.8, 4.89]] type='100000 * var * float32[parameter...'>"
      ]
     },
     "execution_count": 8,
     "metadata": {},
     "output_type": "execute_result"
    }
   ],
   "source": [
    "events.Muon.pt"
   ]
  },
  {
   "cell_type": "markdown",
   "id": "7e096d8f-41e0-48e6-adc9-a4ca0898dcef",
   "metadata": {},
   "source": [
    "Note, as a sanity check, that the shape of this array is the same as that of the Muon array above. Indeed:"
   ]
  },
  {
   "cell_type": "code",
   "execution_count": 9,
   "id": "7e3c5f13-eb3e-44b0-8856-d08555eb43b5",
   "metadata": {},
   "outputs": [
    {
     "data": {
      "text/plain": [
       "136481"
      ]
     },
     "execution_count": 9,
     "metadata": {},
     "output_type": "execute_result"
    }
   ],
   "source": [
    "ak.sum(ak.num(events.Muon.pt))"
   ]
  },
  {
   "cell_type": "markdown",
   "id": "d7d36cbc-7a9b-4ed6-827e-b7c2c3b27162",
   "metadata": {},
   "source": [
    "Now that we know how to access data, we can manipulate it as we desire in the standard awkward way. Most cuts in columnar analysis are achieved through masking. Shortly, a mask is a Boolean array which is generated by performing a conditional on a data array. For example, if we want only muons with a p<sub>T</sub> > 10, our mask would be:"
   ]
  },
  {
   "cell_type": "code",
   "execution_count": 10,
   "id": "8c57d1ba-4130-4a44-934a-2110ff75146c",
   "metadata": {},
   "outputs": [
    {
     "data": {
      "text/plain": [
       "<Array [[True], [True], ... [True, False]] type='100000 * var * bool'>"
      ]
     },
     "execution_count": 10,
     "metadata": {},
     "output_type": "execute_result"
    }
   ],
   "source": [
    "events.Muon.pt > 10"
   ]
  },
  {
   "cell_type": "markdown",
   "id": "c26a0029-a088-43e6-9232-4fdbb52d2371",
   "metadata": {},
   "source": [
    "Then, we can apply the mask to our data. This will pick out only the elements of our data which correspond to a <code>True</code>. The data and the mask thus must have the same shape up to the depth of the selection. Since we're making a selection on muons, the mask must have the exact same shape as the data. If we made a selection on events, the mask should be flat with size 100000. The shape of the output array will differ from the data and mask arrays since we are downselecting data."
   ]
  },
  {
   "cell_type": "code",
   "execution_count": 11,
   "id": "672f9542-4002-4776-a571-e1d4c83228c1",
   "metadata": {},
   "outputs": [
    {
     "data": {
      "text/plain": [
       "<Array [[12.8], [24.8], ... [38.7], [14.8]] type='100000 * var * float32[paramet...'>"
      ]
     },
     "execution_count": 11,
     "metadata": {},
     "output_type": "execute_result"
    }
   ],
   "source": [
    "events.Muon.pt[events.Muon.pt > 10]"
   ]
  },
  {
   "cell_type": "markdown",
   "id": "9d9c02d1-64ba-4f11-b3a7-2b3c89926bac",
   "metadata": {},
   "source": [
    "Note that we still have 100000 subarrays, as we still have 100000 events, as we only did a selection on muons. If an event had a muon which didn't meet the cut, then that event just has an empty subarray now.\n",
    "\n",
    "Compare the output array to our original data array. The last Muon, with a pT of 4.89, is no longer present in the array. We'd expect to have fewer muons overall. Let's take another count!"
   ]
  },
  {
   "cell_type": "code",
   "execution_count": 12,
   "id": "e1d9f811-fd3f-46c6-980d-2bd446f624e8",
   "metadata": {},
   "outputs": [
    {
     "data": {
      "text/plain": [
       "109624"
      ]
     },
     "execution_count": 12,
     "metadata": {},
     "output_type": "execute_result"
    }
   ],
   "source": [
    "ak.sum(ak.num(events.Muon.pt[events.Muon.pt > 10]))"
   ]
  },
  {
   "cell_type": "markdown",
   "id": "5c2f9673-c9bd-4d1a-8534-d1e47a4efaef",
   "metadata": {},
   "source": [
    "Conversely, the set of muons whose pT is less than 10 can also be examined."
   ]
  },
  {
   "cell_type": "code",
   "execution_count": 13,
   "id": "b3570924-3113-48b4-9ca8-729b8205171d",
   "metadata": {},
   "outputs": [
    {
     "data": {
      "text/plain": [
       "<Array [[], [], [6.99, 3.35, ... [], [4.89]] type='100000 * var * float32[parame...'>"
      ]
     },
     "execution_count": 13,
     "metadata": {},
     "output_type": "execute_result"
    }
   ],
   "source": [
    "events.Muon.pt[events.Muon.pt < 10]"
   ]
  },
  {
   "cell_type": "markdown",
   "id": "096dc8fa-db11-4e9f-9847-73b59a36664d",
   "metadata": {},
   "source": [
    "Here, we see the last Muon *is* present, as we'd expect. Doing some rough math, we'd expect this array to be 136481 - 109624 = 26857 elements in length."
   ]
  },
  {
   "cell_type": "code",
   "execution_count": 14,
   "id": "41234138-1d82-4b11-be14-92c137608051",
   "metadata": {},
   "outputs": [
    {
     "data": {
      "text/plain": [
       "26857"
      ]
     },
     "execution_count": 14,
     "metadata": {},
     "output_type": "execute_result"
    }
   ],
   "source": [
    "ak.sum(ak.num(events.Muon.pt[events.Muon.pt < 10]))"
   ]
  },
  {
   "cell_type": "markdown",
   "id": "0eb7edc6-cbeb-465b-a3f7-af0d6c62fd85",
   "metadata": {},
   "source": [
    "## **NanoEvents**: Awkward+Schemas"
   ]
  },
  {
   "cell_type": "markdown",
   "id": "dea69bdd-7e37-41b2-a5a7-4884af78ac37",
   "metadata": {},
   "source": [
    "One might now rightfully ask: how is NanoEvents different from awkward?\n",
    "\n",
    "Fundamentally, NanoEvents builds upon awkward by imposing a schema onto the data. This schema ensures that fields are properly nested, that appropriate physics methods are generated for different objects, and that certain fields are cross-referenced where such references might be desired. For NanoAOD files, the standard schema is [NanoAODSchema](https://coffeateam.github.io/coffea/api/coffea.nanoevents.NanoAODSchema.html), but users can create their own schema for whatever nTuple file-type they may be working with, and they can impose any behavior which is desirable for their particular data. The coffea team welcomes new schema models from the community.\n",
    "\n",
    "Let's visualize what this all means. First, nesting. The exact methodology by which NanoAODSchema generates its arrays is specified in the documentation, but let's spend a second exploring their application to our file. The branches of our events are:"
   ]
  },
  {
   "cell_type": "code",
   "execution_count": 160,
   "id": "9343cc44-7ef9-46b0-a982-d548a77fe250",
   "metadata": {},
   "outputs": [
    {
     "data": {
      "text/plain": [
       "['run',\n",
       " 'luminosityBlock',\n",
       " 'event',\n",
       " 'HLT_IsoMu24_eta2p1',\n",
       " 'HLT_IsoMu24',\n",
       " 'HLT_IsoMu17_eta2p1_LooseIsoPFTau20',\n",
       " 'PV_npvs',\n",
       " 'PV_x',\n",
       " 'PV_y',\n",
       " 'PV_z',\n",
       " 'nMuon',\n",
       " 'Muon_pt',\n",
       " 'Muon_eta',\n",
       " 'Muon_phi',\n",
       " 'Muon_mass',\n",
       " 'Muon_charge',\n",
       " 'Muon_pfRelIso03_all',\n",
       " 'Muon_pfRelIso04_all',\n",
       " 'Muon_tightId',\n",
       " 'Muon_softId',\n",
       " 'Muon_dxy',\n",
       " 'Muon_dxyErr',\n",
       " 'Muon_dz',\n",
       " 'Muon_dzErr',\n",
       " 'Muon_jetIdx',\n",
       " 'Muon_genPartIdx',\n",
       " 'nElectron',\n",
       " 'Electron_pt',\n",
       " 'Electron_eta',\n",
       " 'Electron_phi',\n",
       " 'Electron_mass',\n",
       " 'Electron_charge',\n",
       " 'Electron_pfRelIso03_all',\n",
       " 'Electron_dxy',\n",
       " 'Electron_dxyErr',\n",
       " 'Electron_dz',\n",
       " 'Electron_dzErr',\n",
       " 'Electron_cutBasedId',\n",
       " 'Electron_pfId',\n",
       " 'Electron_jetIdx',\n",
       " 'Electron_genPartIdx',\n",
       " 'nTau',\n",
       " 'Tau_pt',\n",
       " 'Tau_eta',\n",
       " 'Tau_phi',\n",
       " 'Tau_mass',\n",
       " 'Tau_charge',\n",
       " 'Tau_decayMode',\n",
       " 'Tau_relIso_all',\n",
       " 'Tau_jetIdx',\n",
       " 'Tau_genPartIdx',\n",
       " 'Tau_idDecayMode',\n",
       " 'Tau_idIsoRaw',\n",
       " 'Tau_idIsoVLoose',\n",
       " 'Tau_idIsoLoose',\n",
       " 'Tau_idIsoMedium',\n",
       " 'Tau_idIsoTight',\n",
       " 'Tau_idAntiEleLoose',\n",
       " 'Tau_idAntiEleMedium',\n",
       " 'Tau_idAntiEleTight',\n",
       " 'Tau_idAntiMuLoose',\n",
       " 'Tau_idAntiMuMedium',\n",
       " 'Tau_idAntiMuTight',\n",
       " 'nPhoton',\n",
       " 'Photon_pt',\n",
       " 'Photon_eta',\n",
       " 'Photon_phi',\n",
       " 'Photon_mass',\n",
       " 'Photon_charge',\n",
       " 'Photon_pfRelIso03_all',\n",
       " 'Photon_jetIdx',\n",
       " 'Photon_genPartIdx',\n",
       " 'MET_pt',\n",
       " 'MET_phi',\n",
       " 'MET_sumet',\n",
       " 'MET_significance',\n",
       " 'MET_CovXX',\n",
       " 'MET_CovXY',\n",
       " 'MET_CovYY',\n",
       " 'nJet',\n",
       " 'Jet_pt',\n",
       " 'Jet_eta',\n",
       " 'Jet_phi',\n",
       " 'Jet_mass',\n",
       " 'Jet_puId',\n",
       " 'Jet_btag']"
      ]
     },
     "execution_count": 160,
     "metadata": {},
     "output_type": "execute_result"
    }
   ],
   "source": [
    "import uproot\n",
    "branches = uproot.open(\"root://eospublic.cern.ch//eos/root-eos/benchmark/Run2012B_SingleMu.root\", nax_num_elements=100000)['Events']\n",
    "branches.keys()"
   ]
  },
  {
   "cell_type": "markdown",
   "id": "57ac5e87-4466-4dfb-8a45-9df5b22f41f8",
   "metadata": {},
   "source": [
    "That's a mouthful. Let's narrow our focus to the Muon branches:"
   ]
  },
  {
   "cell_type": "code",
   "execution_count": 155,
   "id": "f952a19d-3f1d-4452-b0a0-b3cbd1d5bcc3",
   "metadata": {},
   "outputs": [
    {
     "name": "stdout",
     "output_type": "stream",
     "text": [
      "nMuon\n",
      "Muon_pt\n",
      "Muon_eta\n",
      "Muon_phi\n",
      "Muon_mass\n",
      "Muon_charge\n",
      "Muon_pfRelIso03_all\n",
      "Muon_pfRelIso04_all\n",
      "Muon_tightId\n",
      "Muon_softId\n",
      "Muon_dxy\n",
      "Muon_dxyErr\n",
      "Muon_dz\n",
      "Muon_dzErr\n",
      "Muon_jetIdx\n",
      "Muon_genPartIdx\n"
     ]
    }
   ],
   "source": [
    "for branch in branches.keys():\n",
    "    if 'Muon' in branch:\n",
    "        print(branch)"
   ]
  },
  {
   "cell_type": "markdown",
   "id": "11330d3d-7206-4a7c-8d96-47abd00b3e35",
   "metadata": {},
   "source": [
    "The NanoAODSchema handles several naming schemes. The appropriate rule for the Muon branches, however, is:\n",
    "\n",
    "> From those arrays, NanoAOD collections are formed as collections of branches grouped by name, where:\n",
    "> <br>... \n",
    "> <br> <ul><li>one branch exists named n{name} and many branches start with name_*, interpreted as a jagged table.</li></ul>\n",
    "\n"
   ]
  },
  {
   "cell_type": "markdown",
   "id": "fd27daa2-fc8a-4e0b-b6e9-902a65bc4dca",
   "metadata": {},
   "source": [
    "In other words, the behavior we'd expect for our NanoEvents Muon array is that each Muon branch is grouped by Muon, and each Muon branch has nMuon entries for each event. This is the exact behavior we saw in the preliminary section above. To reiterate:"
   ]
  },
  {
   "cell_type": "code",
   "execution_count": 140,
   "id": "c3b83bd4-d51f-4381-a847-6ba9059b2de3",
   "metadata": {},
   "outputs": [
    {
     "data": {
      "text/plain": [
       "['Electron',\n",
       " 'event',\n",
       " 'Jet',\n",
       " 'PV',\n",
       " 'Photon',\n",
       " 'luminosityBlock',\n",
       " 'run',\n",
       " 'HLT',\n",
       " 'Muon',\n",
       " 'Tau',\n",
       " 'MET']"
      ]
     },
     "execution_count": 140,
     "metadata": {},
     "output_type": "execute_result"
    }
   ],
   "source": [
    "events.fields"
   ]
  },
  {
   "cell_type": "code",
   "execution_count": 141,
   "id": "19cac373-8e48-48ee-84a9-0a32b111d752",
   "metadata": {},
   "outputs": [
    {
     "data": {
      "text/plain": [
       "['charge',\n",
       " 'dxy',\n",
       " 'dxyErr',\n",
       " 'dz',\n",
       " 'dzErr',\n",
       " 'eta',\n",
       " 'genPartIdx',\n",
       " 'jetIdx',\n",
       " 'jetIdxG',\n",
       " 'mass',\n",
       " 'pfRelIso03_all',\n",
       " 'pfRelIso04_all',\n",
       " 'phi',\n",
       " 'pt',\n",
       " 'softId',\n",
       " 'tightId']"
      ]
     },
     "execution_count": 141,
     "metadata": {},
     "output_type": "execute_result"
    }
   ],
   "source": [
    "events.Muon.fields"
   ]
  },
  {
   "cell_type": "code",
   "execution_count": 147,
   "id": "e76e8733-6150-4bc2-9a12-bcabd4b2e323",
   "metadata": {},
   "outputs": [
    {
     "data": {
      "text/plain": [
       "(<Array [1, 1, 6, 1, 1, 1, ... 1, 1, 1, 2, 1, 2] type='100000 * int64'>,\n",
       " <Array [1, 1, 6, 1, 1, 1, ... 1, 1, 1, 2, 1, 2] type='100000 * int64'>,\n",
       " <Array [1, 1, 6, 1, 1, 1, ... 1, 1, 1, 2, 1, 2] type='100000 * int64'>)"
      ]
     },
     "execution_count": 147,
     "metadata": {},
     "output_type": "execute_result"
    }
   ],
   "source": [
    "ak.num(events.Muon.pt, axis=1), ak.num(events.Muon.dxy, axis=1), ak.num(events.Muon.charge, axis=1)"
   ]
  },
  {
   "cell_type": "markdown",
   "id": "65742f42-068e-425e-81f2-1d899af8497a",
   "metadata": {},
   "source": [
    "Which corresponds to the counts in the nMuon branch of our TTree:"
   ]
  },
  {
   "cell_type": "code",
   "execution_count": 161,
   "id": "407c69b0-2416-45f0-80d4-188f17e8d540",
   "metadata": {},
   "outputs": [
    {
     "data": {
      "text/plain": [
       "<Array [1, 1, 6, 1, 1, 1, ... 1, 2, 1, 1, 1, 1] type='53446198 * uint32'>"
      ]
     },
     "execution_count": 161,
     "metadata": {},
     "output_type": "execute_result"
    }
   ],
   "source": [
    "branches['nMuon'].array()"
   ]
  },
  {
   "cell_type": "markdown",
   "id": "304f5770-fda6-4ac6-aa7f-7ac5a7e1d399",
   "metadata": {},
   "source": [
    "To reiterate, this is merely one nesting structure. Schemas can be created for any nTuple file type, and their behavior for handling nesting can be defined by the user.\n",
    "\n",
    "Now, we turn our attention to another feature of NanoEvents schemas: physics methods! Note, from our Muon fields, we have the ingredients for a LorentzVector: pt eta, phi and mass. With pure awkward, we could zip together these fields manually into an array with PtEtaPhiMLorentzVector behavior."
   ]
  },
  {
   "cell_type": "code",
   "execution_count": 116,
   "id": "fd6be78a-a4db-4f0b-a213-073eb8b33c22",
   "metadata": {},
   "outputs": [
    {
     "data": {
      "text/plain": [
       "<Array [12.6] type='1 * float32'>"
      ]
     },
     "execution_count": 116,
     "metadata": {},
     "output_type": "execute_result"
    }
   ],
   "source": [
    "LorVec = ak.zip({'pt': events.Muon.pt,\n",
    "            'eta': events.Muon.eta, \n",
    "            'phi': events.Muon.phi, \n",
    "            'mass': events.Muon.mass}, with_name=\"PtEtaPhiMLorentzVector\")\n",
    "\n",
    "(LorVec[0] + LorVec[1]).pt"
   ]
  },
  {
   "cell_type": "markdown",
   "id": "9a79c29a-91b7-4826-b6b0-391c25796c7e",
   "metadata": {},
   "source": [
    "But we don't have to, because our NanoEvents schema treats the <code>Muon</code> objects in <code>MuonArray</code> as LorentzVectors! Physics behavior can be automatically built in to NanoEvents arrays, whereas it has to be imposed explicitly in awkward."
   ]
  },
  {
   "cell_type": "code",
   "execution_count": 117,
   "id": "4d6b3b26-6f7c-40fb-9f99-37a1a1b84b21",
   "metadata": {},
   "outputs": [
    {
     "data": {
      "text/plain": [
       "<Array [12.6] type='1 * float32'>"
      ]
     },
     "execution_count": 117,
     "metadata": {},
     "output_type": "execute_result"
    }
   ],
   "source": [
    "(events.Muon[0] + events.Muon[1]).pt"
   ]
  },
  {
   "cell_type": "markdown",
   "id": "3894475c-ba49-4e1f-9e4c-ff60f1459b4a",
   "metadata": {},
   "source": [
    "One other implication of this feature is that, in addition to the fields explicitly mentioned under the MuonArray, we can also access other LorentzVector formulations with NanoEvents:"
   ]
  },
  {
   "cell_type": "code",
   "execution_count": 118,
   "id": "d0fab38b-d17a-453e-a993-05682a1bb481",
   "metadata": {},
   "outputs": [
    {
     "data": {
      "text/plain": [
       "(<Array [[10.2], [-22.5], ... [-3.73, -3.47]] type='100000 * var * float32'>,\n",
       " <Array [[7.71], [-10.3], ... [14.4, 3.44]] type='100000 * var * float32'>,\n",
       " <Array [[-8.49], [-19.3], ... [-23.8, 20]] type='100000 * var * float32'>,\n",
       " <Array [[15.3], [31.4], ... [28.1, 20.6]] type='100000 * var * float32'>)"
      ]
     },
     "execution_count": 118,
     "metadata": {},
     "output_type": "execute_result"
    }
   ],
   "source": [
    "events.Muon.x, events.Muon.y, events.Muon.z, events.Muon.energy"
   ]
  },
  {
   "cell_type": "markdown",
   "id": "afe9b7b0-a051-4acd-87ff-05d4ff667bce",
   "metadata": {},
   "source": [
    "And we have the standard LorentzVector methods defined, such as delta_r for computing the distance between two four-vectors:"
   ]
  },
  {
   "cell_type": "code",
   "execution_count": 120,
   "id": "931efd9b-e78c-407a-81e2-ff19e96ecf4b",
   "metadata": {},
   "outputs": [
    {
     "data": {
      "text/plain": [
       "<Array [2.92] type='1 * float32'>"
      ]
     },
     "execution_count": 120,
     "metadata": {},
     "output_type": "execute_result"
    }
   ],
   "source": [
    "events.Muon[0].delta_r(events.Muon[1])"
   ]
  },
  {
   "cell_type": "markdown",
   "id": "90f4316c-76ef-446e-86d2-193b521bd6b9",
   "metadata": {},
   "source": [
    "** If possible, we should add examples of cross-references here, but I don't think the open data file we're currently using has any, and the file we end up working with could be anything."
   ]
  },
  {
   "cell_type": "markdown",
   "id": "de6d1d84-74ce-4b31-9d59-0564dcfef242",
   "metadata": {},
   "source": [
    "## **Hists**: AKA, Yet Another ZPeak"
   ]
  },
  {
   "cell_type": "markdown",
   "id": "865b5147-8310-44f8-97ef-b585c85443a5",
   "metadata": {},
   "source": [
    "We have data, we can work with our data, and we undoubtedly want to move on from looking at code to looking at pretty colors.\n",
    "\n",
    "Let's do a simple example and plot the dilepton mass of opposite-charge, same-flavor lepton pairs. This should give us a peak at ~91.12, the mass of the Z boson, as many such dilepton pairs result from Z decays."
   ]
  },
  {
   "cell_type": "code",
   "execution_count": 26,
   "id": "61ef3c19-dd80-425d-9db5-2c479f88dbd7",
   "metadata": {},
   "outputs": [],
   "source": [
    "# Since they're same-flavor, we can just find dimuons and dielectrons independently. Make sure they're opposite charge and that each event has two leptons.\n",
    "dimuons = events.Muon[(ak.num(events.Muon, axis=1) == 2) & (ak.sum(events.Muon.charge, axis=1) == 0)]\n",
    "dielectrons = events.Electron[(ak.num(events.Electron, axis=1) == 2) & (ak.sum(events.Electron.charge, axis=1) == 0)]"
   ]
  },
  {
   "cell_type": "markdown",
   "id": "c0401964-dd09-41e2-b803-a7806f1d0747",
   "metadata": {},
   "source": [
    "Our <code>dimuons</code> array should now contain only opposite-charge muon pairs and our <code>dielectrons</code> opposite-charge electron pairs. Let's check!"
   ]
  },
  {
   "cell_type": "code",
   "execution_count": 29,
   "id": "89c8dae6-9adb-4bc3-9f5d-96936c4e6ab5",
   "metadata": {},
   "outputs": [
    {
     "data": {
      "text/plain": [
       "(<MuonArray [[Muon, Muon], ... [Muon, Muon]] type='11827 * var * muon'>,\n",
       " <ElectronArray [[Electron, Electron, ... Electron]] type='1261 * var * electron'>)"
      ]
     },
     "execution_count": 29,
     "metadata": {},
     "output_type": "execute_result"
    }
   ],
   "source": [
    "dimuons, dielectrons"
   ]
  },
  {
   "cell_type": "markdown",
   "id": "ba94c988-779f-4aa7-9bc7-861a566297e5",
   "metadata": {},
   "source": [
    "You might be worried about <code>ElectronArray</code> because it sure looks like it has more than two electrons in the first event! But it's just the way that awkward prints things. If we actually look at the first event:"
   ]
  },
  {
   "cell_type": "code",
   "execution_count": 35,
   "id": "b6876536-5f41-4e82-ab59-e6bd8365c31b",
   "metadata": {},
   "outputs": [
    {
     "data": {
      "text/plain": [
       "<ElectronArray [Electron, Electron] type='2 * electron'>"
      ]
     },
     "execution_count": 35,
     "metadata": {},
     "output_type": "execute_result"
    }
   ],
   "source": [
    "dielectrons[0]"
   ]
  },
  {
   "cell_type": "markdown",
   "id": "7fe78f4d-aab3-4bd3-bbd4-0b9e360cd89f",
   "metadata": {},
   "source": [
    "Note that this time, the masks performed a cut at the event level rather than the muon level. We have fewer events, but the same amount of leptons in each event (in the events that we kept). That means we've lost the connection between muons and electrons - they've been downselected and it is not the case that the 1st subarray in <code>ElectronArray</code> is the same event as the 1st subarray in <code>MuonArray</code>. This isn't a problem since we're handling the two independently, but there are ways to handle such a selection without downselection if such indexing needs to be preserved.\n",
    "\n",
    "All we need now is the dilepton mass. Awkward arrays can be indexed in a similar way as numpy array, so <code>dimuons[:, 0]</code> will select the first muon in every <code>dimuon</code> event. If we do any mathematical operations on the <code>MuonArray</code> level, then NanoEvents ensures each <code>Muon</code> will be treated as a LorentzVector object. The same goes for our Electrons, of course. That makes our life easy:"
   ]
  },
  {
   "cell_type": "code",
   "execution_count": 36,
   "id": "ea1eb5b0-7d6e-4c80-aa7c-986265117200",
   "metadata": {},
   "outputs": [
    {
     "data": {
      "text/plain": [
       "(<Array [79.9, 2.78, 49.3, ... 24.1, 13, 44.5] type='11827 * float32'>,\n",
       " <Array [46.1, 1.48, 2.98, ... 1.91, 17.6, 77.5] type='1261 * float32'>)"
      ]
     },
     "execution_count": 36,
     "metadata": {},
     "output_type": "execute_result"
    }
   ],
   "source": [
    "mumu_mass = (dimuons[:, 0] + dimuons[:, 1]).mass\n",
    "ee_mass = (dielectrons[:, 0] + dielectrons[:, 1]).mass\n",
    "\n",
    "mumu_mass, ee_mass"
   ]
  },
  {
   "cell_type": "markdown",
   "id": "90a361ef-846e-447c-937d-56abb122ebf2",
   "metadata": {},
   "source": [
    "We've effectively collapsed our subarrays by finding the mass of the pairs, so now we have a flat array. It is of the same size as our dimuons array above. We now have our data!\n",
    "\n",
    "What else do we need for plotting? Well, a histogram is essentially a way to reduce our data. We can't just plot 100000 different values of dimuon mass, so we divide up our range of masses into n bins across some reasonable range. Thus, we need to define the mapping for our reduction; defining the number of bins and the range is sufficient for this.\n",
    "\n",
    "In our case, let's plot 50 bins between values of 20 and 150. This removes anomalously low-mass data at the lower end, and merely cuts off a shrinking \"tail\" on the higher end. Because a histogram can contain an arbitrary amount of bins (in other words, dimensions), we also need to give our bin a label (which becomes its reference in our code) and a name (which becomes the x-axis label in the 1-dimensional case)."
   ]
  },
  {
   "cell_type": "code",
   "execution_count": 46,
   "id": "d9bf9bb7-db03-475a-bb5f-484003bfae0d",
   "metadata": {},
   "outputs": [],
   "source": [
    "ll_bin = hist.Bin(\"dilep_mass\", \"$Dilepton Mass$\", 50, 20, 150)"
   ]
  },
  {
   "cell_type": "markdown",
   "id": "33b35d1b-ff9e-4f73-9851-977130248f84",
   "metadata": {},
   "source": [
    "We are still not *yet* ready to plot. We have two masses we'd like to plot, and it doesn't make much sense to throw ee masses into the same bins as \\mu\\mu masses. We want to keep these separate. We do so by introducing a categorical axis. Another example of when we might use a categorical axis is to keep data from different datasets separate, though in our case we're only working with a single dataset.\n",
    "\n",
    "The definition of a categorical axis follows that of the bin axis, though this time we don't need any sort of reduction. Categories are specified at the point of filling. "
   ]
  },
  {
   "cell_type": "code",
   "execution_count": 47,
   "id": "7b06e44e-87cf-4042-a9b7-8b805a6adfb0",
   "metadata": {},
   "outputs": [],
   "source": [
    "ll_cat = hist.Cat(\"lepton\", \"Lepton Flavor\")"
   ]
  },
  {
   "cell_type": "markdown",
   "id": "5db5a5fb-d8a8-4532-87e8-bdd6a6e3532a",
   "metadata": {},
   "source": [
    "We finally have all of the ingredients needed for a histogram! All that remains is to mix them together:"
   ]
  },
  {
   "cell_type": "code",
   "execution_count": 48,
   "id": "a8395f72-65ad-4414-9f32-0a4ef5984e36",
   "metadata": {},
   "outputs": [],
   "source": [
    "ll_hist = hist.Hist(\"Counts\", ll_cat, ll_bin)"
   ]
  },
  {
   "cell_type": "markdown",
   "id": "92e3322d-a601-43a5-9d80-bed800c8f480",
   "metadata": {},
   "source": [
    "Fill it with our data:"
   ]
  },
  {
   "cell_type": "code",
   "execution_count": 49,
   "id": "80e4096d-e519-4787-a92e-a098bac08ae5",
   "metadata": {},
   "outputs": [],
   "source": [
    "ll_hist.fill(lepton=\"$\\mu\\mu$\", dilep_mass=mumu_mass)\n",
    "ll_hist.fill(lepton=\"ee\", dilep_mass=ee_mass)"
   ]
  },
  {
   "cell_type": "markdown",
   "id": "ff40a4a2-4627-42d8-a10e-cc17b2cbe9c6",
   "metadata": {},
   "source": [
    "And plot!"
   ]
  },
  {
   "cell_type": "code",
   "execution_count": 50,
   "id": "249c2ef0-21cc-46a3-a9ce-7df7dbd8b017",
   "metadata": {},
   "outputs": [
    {
     "data": {
      "text/plain": [
       "<AxesSubplot:xlabel='$Dilepton Mass$', ylabel='Counts'>"
      ]
     },
     "execution_count": 50,
     "metadata": {},
     "output_type": "execute_result"
    },
    {
     "data": {
      "image/png": "[encoded data removed]",
      "text/plain": [
       "<Figure size 432x288 with 1 Axes>"
      ]
     },
     "metadata": {
      "needs_background": "light"
     },
     "output_type": "display_data"
    }
   ],
   "source": [
    "hist.plot1d(ll_hist)"
   ]
  },
  {
   "cell_type": "markdown",
   "id": "e6226e30-f9d3-43ed-a880-0de7f1c6993a",
   "metadata": {},
   "source": [
    "We see the spike we expected in $\\mu\\mu$. Our ee data is too sparse to be meaningful. (That's because the present placeholder file is a muon dataset!)"
   ]
  },
  {
   "cell_type": "code",
   "execution_count": null,
   "id": "5cc0fcb2-81b0-4bca-a803-b41d4412713e",
   "metadata": {},
   "outputs": [],
   "source": []
  }
 ],
 "metadata": {
  "kernelspec": {
   "display_name": "Python 3 (ipykernel)",
   "language": "python",
   "name": "python3"
  },
  "language_info": {
   "codemirror_mode": {
    "name": "ipython",
    "version": 3
   },
   "file_extension": ".py",
   "mimetype": "text/x-python",
   "name": "python",
   "nbconvert_exporter": "python",
   "pygments_lexer": "ipython3",
   "version": "3.8.12"
  }
 },
 "nbformat": 4,
 "nbformat_minor": 5
}
