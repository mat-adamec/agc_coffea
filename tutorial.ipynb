{
 "cells": [
  {
   "cell_type": "markdown",
   "id": "5da16986-b620-4d9e-8d0d-d669d7c8ccf5",
   "metadata": {},
   "source": [
    "# Title"
   ]
  },
  {
   "cell_type": "markdown",
   "id": "cb3dfb9b-5318-4bef-beb4-217d400722ab",
   "metadata": {},
   "source": [
    "## What is Coffea?"
   ]
  },
  {
   "cell_type": "markdown",
   "id": "e2930e50-b560-4200-adea-94513b1a860d",
   "metadata": {},
   "source": [
    "Coffea stands for *Columnar Object Framework For Effective Analysis.* It contains a variety of tools which help physicists perform their analyses in a columnar fashion. By \"a columnar fashion,\" we mean that data is contained in numpy-like arrays upon which we can perform operations without calling an explicit event loop. Coffea's arrays are built on Awkward, and any Awkward operation will work on a Coffea data array. But, of course, Coffea isn't just Awkward! Its tools include:\n",
    "\n",
    "* **NanoEvents** wraps data into an awkward array with physics object methods (such as LorentzVector methods). Depending on the schema used, additional arrays and cross-references may be generated. For NanoAODs, the default schema is [NanoAODSchema](https://coffeateam.github.io/coffea/api/coffea.nanoevents.NanoAODSchema.html#), but the exact details aren't important for the moment. Importantly, NanoEvents accesses data lazily with the help of uproot - data is not instantiated until it is needed!\n",
    "\n",
    "* **Hists** are as they sound! Once you've accessed and manipulated your data with NanoEvents and awkward, you're going to want to make some plots. The hist object has the functionality you'll need to make ROOT-like histograms.\n",
    "\n",
    "* **Processors** are Coffea's way of wrapping up an analysis in a way that is deployment-neutral. Once you've turned your analysis into a processor, you can run it on a variety of executors (e.g. Dask, Parsl, Spark) without making any dramatic changes to the analysis itself. This makes scale-out simple and dynamic.\n",
    "\n",
    "* **Lookup tools** are available in Coffea for any corrections that need to be made to physics data. These tools read a variety of correction file formats and turn them into lookup tables. As corrections are experiment-specific, we won't be covering this aspect in this tutorial.\n",
    "\n",
    "Conveniently, these tools build on each other. You can't use a hist without data, and you can't use a processor without an analysis (which is, loosely, data + hists). Thus, the above serves as the agenda for our tutorial today!"
   ]
  },
  {
   "cell_type": "markdown",
   "id": "7abffcc4-cc2c-4838-9fad-ee123803f536",
   "metadata": {},
   "source": [
    "## A Motivating Comparison"
   ]
  },
  {
   "cell_type": "markdown",
   "id": "43990d64-4770-4469-a340-7709b281d6ee",
   "metadata": {},
   "source": [
    "Placeholder. Showcase coffea vs. event loop to motivate why we'd want to use it.\n",
    "* Find a suitable analysis for this.\n",
    "* Maybe show the analysis we'll build through the tutorial, just to also show \"where we'll end up?\"\n",
    "* If we do make a comparison here, then imports/NanoAODSchema warning messages will be here, so they remain here for now."
   ]
  },
  {
   "cell_type": "code",
   "execution_count": 2,
   "id": "d2c39979-2731-48a8-bd32-ec441b6c4c3b",
   "metadata": {},
   "outputs": [],
   "source": [
    "from coffea.nanoevents import NanoEventsFactory, NanoAODSchema\n",
    "from coffea import hist\n",
    "import awkward as ak\n",
    "\n",
    "# NanoEvents will try to build crossrefs that aren't in our file! Silence this as it's irrelevant for our purposes.\n",
    "NanoAODSchema.warn_missing_crossrefs = False"
   ]
  },
  {
   "cell_type": "markdown",
   "id": "ac2ac174-48d3-47b4-9135-357de64027f4",
   "metadata": {},
   "source": [
    "## **NanoEvents**: Data, Awkwardly"
   ]
  },
  {
   "cell_type": "markdown",
   "id": "478f11d5-5f96-4f75-8593-4fb6eb427ee8",
   "metadata": {},
   "source": [
    "As mentioned in the overview, NanoEvents bundles data with physical meaning. We input some nTuple file and we get an awkward array with the desirable physics methods.\n",
    "\n",
    "To use NanoEvents, we of course need data. (Insert information about the file we'll be using. Currently, we're using a placeholder.)\n",
    "\n",
    "The simplest way to access our data is to use NanoEventsFactory. Note that I will only take the first 100000 events in our file - this ensures we don't end up waiting for blocks to process. You can remove this constraint if you desire."
   ]
  },
  {
   "cell_type": "code",
   "execution_count": 4,
   "id": "94e22a86-596d-418d-aeb5-233a024f7b79",
   "metadata": {
    "tags": []
   },
   "outputs": [],
   "source": [
    "events = NanoEventsFactory.from_root(\"root://eospublic.cern.ch//eos/root-eos/benchmark/Run2012B_SingleMu.root\", entry_stop=100000).events()"
   ]
  },
  {
   "cell_type": "markdown",
   "id": "38d7e136-c980-482a-87d5-f48159d077b8",
   "metadata": {},
   "source": [
    "What does our data look like? Well, it's an awkward array! If you missed the talk about awkward, you can imagine an awkward array as a numpy array that can handle jagged (non-rectangular) data. We won't dive too deep into its details - but we will at least explore the structure of our NanoEvents array. Let's look at <code>events</code>:"
   ]
  },
  {
   "cell_type": "code",
   "execution_count": 6,
   "id": "64305403-ccb2-47cd-9a08-4a48a0523926",
   "metadata": {},
   "outputs": [
    {
     "data": {
      "text/plain": [
       "<NanoEventsArray [<event 194711:299:263142897>, ... ] type='100000 * event'>"
      ]
     },
     "execution_count": 6,
     "metadata": {},
     "output_type": "execute_result"
    }
   ],
   "source": [
    "events"
   ]
  },
  {
   "cell_type": "markdown",
   "id": "6d1f43f5-37f6-421c-9252-770b3585c572",
   "metadata": {},
   "source": [
    "What does this mean? Well, we have an array of size 100000 which is populated with <code>event</code> entries. Each <code>event</code> contains a variable amount of the data we are interested in. We can see the data that is contains by exploring its <code>fields</code>."
   ]
  },
  {
   "cell_type": "code",
   "execution_count": 9,
   "id": "64aa8288-7c61-4c8f-9346-76a7e10b6808",
   "metadata": {},
   "outputs": [
    {
     "data": {
      "text/plain": [
       "['PV',\n",
       " 'MET',\n",
       " 'Muon',\n",
       " 'luminosityBlock',\n",
       " 'run',\n",
       " 'Electron',\n",
       " 'Photon',\n",
       " 'Jet',\n",
       " 'event',\n",
       " 'HLT',\n",
       " 'Tau']"
      ]
     },
     "execution_count": 9,
     "metadata": {},
     "output_type": "execute_result"
    }
   ],
   "source": [
    "events.fields"
   ]
  },
  {
   "cell_type": "markdown",
   "id": "9ecbfc67-313a-436f-a972-53b94e0fd3d1",
   "metadata": {},
   "source": [
    "As this is a muon dataset, let's look at <code>Muon</code>."
   ]
  },
  {
   "cell_type": "code",
   "execution_count": 12,
   "id": "3c790d37-24ab-4195-b8c0-75ce7172384b",
   "metadata": {},
   "outputs": [
    {
     "data": {
      "text/plain": [
       "<MuonArray [[Muon], [Muon], ... [Muon, Muon]] type='100000 * var * muon'>"
      ]
     },
     "execution_count": 12,
     "metadata": {},
     "output_type": "execute_result"
    }
   ],
   "source": [
    "events.Muon"
   ]
  },
  {
   "cell_type": "markdown",
   "id": "7dd7c1d4-0220-4e0e-b36c-d6e23a2587cf",
   "metadata": {},
   "source": [
    "Looking at <code>events.Muon</code> we begin to see the jagged structure of our events array. Each subarray in <code>MuonArray</code> represents one event (note that the size of <code>MuonArray</code> is still 100000). Then, each event can have one Muon, n Muons, or none in its subarray. Of course, this is what we expect to be the case physically, but we now have a data structure that can represent it. That's the beauty of awkward!\n",
    "\n",
    "To drive the point home, let's count up the number of muons across all of our events."
   ]
  },
  {
   "cell_type": "code",
   "execution_count": 30,
   "id": "6702024b-e035-4435-a9be-3e3866d01d95",
   "metadata": {},
   "outputs": [
    {
     "data": {
      "text/plain": [
       "136481"
      ]
     },
     "execution_count": 30,
     "metadata": {},
     "output_type": "execute_result"
    }
   ],
   "source": [
    "import awkward as ak\n",
    "\n",
    "ak.sum(ak.num(events.Muon, axis=-1))"
   ]
  },
  {
   "cell_type": "markdown",
   "id": "ca9fc147-c80b-4331-9b55-9afff590c394",
   "metadata": {},
   "source": [
    "A quick note about axes in Awkward: 0 is always the shallowest, while -1 is the deepest. In other words, <code>axis=0</code> would tell us the number of subarrays, while <code>axis=-1</code> sums up the number of muons in each subarray. In this case, <code>axis=1</code> works just as well; <code>axis=2</code> is meaningless since our subarrays have no further subarrays within them.\n",
    "\n",
    "Now we have some idea about the structure of our data. How do we actually get information about a <code>Muon</code>, though? Well, a <code>Muon</code> has its own fields:"
   ]
  },
  {
   "cell_type": "code",
   "execution_count": 15,
   "id": "d748922d-2cb8-49e4-83af-979bb3877bad",
   "metadata": {},
   "outputs": [
    {
     "data": {
      "text/plain": [
       "['charge',\n",
       " 'dxy',\n",
       " 'dxyErr',\n",
       " 'dz',\n",
       " 'dzErr',\n",
       " 'eta',\n",
       " 'genPartIdx',\n",
       " 'jetIdx',\n",
       " 'jetIdxG',\n",
       " 'mass',\n",
       " 'pfRelIso03_all',\n",
       " 'pfRelIso04_all',\n",
       " 'phi',\n",
       " 'pt',\n",
       " 'softId',\n",
       " 'tightId']"
      ]
     },
     "execution_count": 15,
     "metadata": {},
     "output_type": "execute_result"
    }
   ],
   "source": [
    "events.Muon.fields"
   ]
  },
  {
   "cell_type": "markdown",
   "id": "48cab211-04e1-4a43-ba4b-3169d74b20b5",
   "metadata": {},
   "source": [
    "And these fields can be accessed in the same way that we accessed Muons! The p<sub>T</sub>, for example:"
   ]
  },
  {
   "cell_type": "code",
   "execution_count": 16,
   "id": "dcb90daf-5201-493a-ac45-173ade43fb98",
   "metadata": {},
   "outputs": [
    {
     "data": {
      "text/plain": [
       "<Array [[12.8], [24.8], ... [14.8, 4.89]] type='100000 * var * float32[parameter...'>"
      ]
     },
     "execution_count": 16,
     "metadata": {},
     "output_type": "execute_result"
    }
   ],
   "source": [
    "events.Muon.pt"
   ]
  },
  {
   "cell_type": "markdown",
   "id": "7e096d8f-41e0-48e6-adc9-a4ca0898dcef",
   "metadata": {},
   "source": [
    "Note, as a sanity check, that the shape of this array is the same as that of the Muon array above. Indeed:"
   ]
  },
  {
   "cell_type": "code",
   "execution_count": 17,
   "id": "7e3c5f13-eb3e-44b0-8856-d08555eb43b5",
   "metadata": {},
   "outputs": [
    {
     "data": {
      "text/plain": [
       "136481"
      ]
     },
     "execution_count": 17,
     "metadata": {},
     "output_type": "execute_result"
    }
   ],
   "source": [
    "ak.sum(ak.num(events.Muon.pt))"
   ]
  },
  {
   "cell_type": "markdown",
   "id": "d7d36cbc-7a9b-4ed6-827e-b7c2c3b27162",
   "metadata": {},
   "source": [
    "Now that we know how to access data, we can manipulate it as we desire in the standard awkward way. Most cuts in columnar analysis are achieved through masking. Shortly, a mask is a Boolean array which is generated by performing a conditional on a data array. For example, if we want only muons with a p<sub>T</sub> > 10, our mask would be:"
   ]
  },
  {
   "cell_type": "code",
   "execution_count": 20,
   "id": "8c57d1ba-4130-4a44-934a-2110ff75146c",
   "metadata": {},
   "outputs": [
    {
     "data": {
      "text/plain": [
       "<Array [[True], [True], ... [True, False]] type='100000 * var * bool'>"
      ]
     },
     "execution_count": 20,
     "metadata": {},
     "output_type": "execute_result"
    }
   ],
   "source": [
    "events.Muon.pt > 10"
   ]
  },
  {
   "cell_type": "markdown",
   "id": "c26a0029-a088-43e6-9232-4fdbb52d2371",
   "metadata": {},
   "source": [
    "Then, we can apply the mask to our data. This will pick out only the elements of our data which correspond to a <code>True</code>. The data and the mask thus must have the same shape up to the depth of the selection. Since we're making a selection on muons, the mask must have the exact same shape as the data. If we made a selection on events, the mask should be flat with size 100000. The shape of the output array will differ from the data and mask arrays since we are downselecting data."
   ]
  },
  {
   "cell_type": "code",
   "execution_count": 22,
   "id": "672f9542-4002-4776-a571-e1d4c83228c1",
   "metadata": {},
   "outputs": [
    {
     "data": {
      "text/plain": [
       "<Array [[12.8], [24.8], ... [38.7], [14.8]] type='100000 * var * float32[paramet...'>"
      ]
     },
     "execution_count": 22,
     "metadata": {},
     "output_type": "execute_result"
    }
   ],
   "source": [
    "events.Muon.pt[events.Muon.pt > 10]"
   ]
  },
  {
   "cell_type": "markdown",
   "id": "9d9c02d1-64ba-4f11-b3a7-2b3c89926bac",
   "metadata": {},
   "source": [
    "Note that we still have 100000 subarrays, as we still have 100000 events, as we only did a selection on muons. If an event had a muon which didn't meet the cut, then that event just has an empty subarray now.\n",
    "\n",
    "Compare the output array to our original data array. The last Muon, with a pT of 4.89, is no longer present in the array. We'd expect to have fewer muons overall. Let's take another count!"
   ]
  },
  {
   "cell_type": "code",
   "execution_count": 23,
   "id": "e1d9f811-fd3f-46c6-980d-2bd446f624e8",
   "metadata": {},
   "outputs": [
    {
     "data": {
      "text/plain": [
       "109624"
      ]
     },
     "execution_count": 23,
     "metadata": {},
     "output_type": "execute_result"
    }
   ],
   "source": [
    "ak.sum(ak.num(events.Muon.pt[events.Muon.pt > 10]))"
   ]
  },
  {
   "cell_type": "markdown",
   "id": "5c2f9673-c9bd-4d1a-8534-d1e47a4efaef",
   "metadata": {},
   "source": [
    "Conversely, the set of muons whose pT is less than 10 can also be examined."
   ]
  },
  {
   "cell_type": "code",
   "execution_count": 24,
   "id": "b3570924-3113-48b4-9ca8-729b8205171d",
   "metadata": {},
   "outputs": [
    {
     "data": {
      "text/plain": [
       "<Array [[], [], [6.99, 3.35, ... [], [4.89]] type='100000 * var * float32[parame...'>"
      ]
     },
     "execution_count": 24,
     "metadata": {},
     "output_type": "execute_result"
    }
   ],
   "source": [
    "events.Muon.pt[events.Muon.pt < 10]"
   ]
  },
  {
   "cell_type": "markdown",
   "id": "096dc8fa-db11-4e9f-9847-73b59a36664d",
   "metadata": {},
   "source": [
    "Here, we see the last Muon *is* present, as we'd expect. Doing some rough math, we'd expect this array to be 136481 - 109624 = 26857 elements in length."
   ]
  },
  {
   "cell_type": "code",
   "execution_count": 25,
   "id": "41234138-1d82-4b11-be14-92c137608051",
   "metadata": {},
   "outputs": [
    {
     "data": {
      "text/plain": [
       "26857"
      ]
     },
     "execution_count": 25,
     "metadata": {},
     "output_type": "execute_result"
    }
   ],
   "source": [
    "ak.sum(ak.num(events.Muon.pt[events.Muon.pt < 10]))"
   ]
  },
  {
   "cell_type": "markdown",
   "id": "de6d1d84-74ce-4b31-9d59-0564dcfef242",
   "metadata": {},
   "source": [
    "## **Hists**: AKA, Yet Another ZPeak"
   ]
  },
  {
   "cell_type": "markdown",
   "id": "865b5147-8310-44f8-97ef-b585c85443a5",
   "metadata": {},
   "source": [
    "We have data, we can work with our data, and we undoubtedly want to move on from looking at code to looking at pretty colors.\n",
    "\n",
    "Let's do a simple example and plot the dimuon mass of opposite-charge muon pairs. This should give us a peak at ~91.12, the mass of the Z boson, as many such dimuon pairs result from Z decays."
   ]
  },
  {
   "cell_type": "code",
   "execution_count": 29,
   "id": "61ef3c19-dd80-425d-9db5-2c479f88dbd7",
   "metadata": {},
   "outputs": [
    {
     "data": {
      "text/plain": [
       "<MuonArray [[Muon, Muon], ... [Muon, Muon]] type='11827 * var * muon'>"
      ]
     },
     "execution_count": 29,
     "metadata": {},
     "output_type": "execute_result"
    }
   ],
   "source": [
    "# Only want events with 2 muons that are charge-neutral.\n",
    "dimuons = events.Muon[(ak.num(events.Muon, axis=1) == 2) & (ak.sum(events.Muon.charge, axis=1) == 0)]"
   ]
  },
  {
   "cell_type": "markdown",
   "id": "c0401964-dd09-41e2-b803-a7806f1d0747",
   "metadata": {},
   "source": [
    "Note that we can string together conditionals. We could have just as easily done two separate masks. \n",
    "\n",
    "Our <code>dimuons</code> array should now contain only opposite-charge muon pairs. Let's check!"
   ]
  },
  {
   "cell_type": "code",
   "execution_count": 31,
   "id": "89c8dae6-9adb-4bc3-9f5d-96936c4e6ab5",
   "metadata": {},
   "outputs": [
    {
     "data": {
      "text/plain": [
       "<Array [[-1, 1], [-1, 1], ... [1, -1], [1, -1]] type='11827 * var * int32[parame...'>"
      ]
     },
     "execution_count": 31,
     "metadata": {},
     "output_type": "execute_result"
    }
   ],
   "source": [
    "dimuons.charge"
   ]
  },
  {
   "cell_type": "markdown",
   "id": "7fe78f4d-aab3-4bd3-bbd4-0b9e360cd89f",
   "metadata": {},
   "source": [
    "Note that this time, the mask performed a cut at the event level rather than the muon level. We have fewer events, but the same amount of muons in each event (in the events that we kept). We now only have 11827 events.\n",
    "\n",
    "All we need now is the dimuon mass. Awkward arrays can be indexed in a similar way as numpy array, so <code>dimuons[:, 0]</code> will select the first muon in every <code>dimuon</code> event. If we do any mathematical operations on the <code>MuonArray</code> level, then NanoEvents ensures each <code>Muon</code> will be treated as a LorentzVector object. That makes our life easy:"
   ]
  },
  {
   "cell_type": "code",
   "execution_count": 32,
   "id": "ea1eb5b0-7d6e-4c80-aa7c-986265117200",
   "metadata": {},
   "outputs": [
    {
     "data": {
      "text/plain": [
       "<Array [79.9, 2.78, 49.3, ... 24.1, 13, 44.5] type='11827 * float32'>"
      ]
     },
     "execution_count": 32,
     "metadata": {},
     "output_type": "execute_result"
    }
   ],
   "source": [
    "mumu_mass = (dimuons[:, 0] + dimuons[:, 1]).mass\n",
    "\n",
    "\n",
    "mumu_mass"
   ]
  },
  {
   "cell_type": "markdown",
   "id": "90a361ef-846e-447c-937d-56abb122ebf2",
   "metadata": {},
   "source": [
    "We've effectively collapsed our subarrays by finding the mass of the pairs, so now we have a flat array. It is of the same size as our dimuons array above. On to plotting!"
   ]
  },
  {
   "cell_type": "code",
   "execution_count": null,
   "id": "d9bf9bb7-db03-475a-bb5f-484003bfae0d",
   "metadata": {},
   "outputs": [],
   "source": []
  },
  {
   "cell_type": "markdown",
   "id": "6b9a61ce-bc69-4599-bf13-a609b7e92415",
   "metadata": {},
   "source": [
    "## Broader Deployment: Processors"
   ]
  },
  {
   "cell_type": "markdown",
   "id": "82e453c5-4af3-4b27-966b-eb70485c9599",
   "metadata": {},
   "source": [
    "Go through a processor step by step\n"
   ]
  },
  {
   "cell_type": "code",
   "execution_count": null,
   "id": "938d5103-a667-48e9-b520-527019ed22f3",
   "metadata": {},
   "outputs": [],
   "source": []
  }
 ],
 "metadata": {
  "kernelspec": {
   "display_name": "Python 3 (ipykernel)",
   "language": "python",
   "name": "python3"
  },
  "language_info": {
   "codemirror_mode": {
    "name": "ipython",
    "version": 3
   },
   "file_extension": ".py",
   "mimetype": "text/x-python",
   "name": "python",
   "nbconvert_exporter": "python",
   "pygments_lexer": "ipython3",
   "version": "3.8.12"
  }
 },
 "nbformat": 4,
 "nbformat_minor": 5
}
